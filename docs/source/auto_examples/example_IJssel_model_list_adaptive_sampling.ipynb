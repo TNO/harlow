{
  "cells": [
    {
      "cell_type": "code",
      "execution_count": null,
      "metadata": {
        "collapsed": false
      },
      "outputs": [],
      "source": [
        "%matplotlib inline"
      ]
    },
    {
      "cell_type": "markdown",
      "metadata": {},
      "source": [
        "\n# ModelListGP example.\nThis example demonstrates the usage of the ``ModelListGP``, a list of independent\nGaussian Process surrogates, each approximating an output of a function.\n\n\\begin{align}\\mathbf{X}_{\\mathrm{model}}(\\mathbf{\\theta}) =\n    \\mathbf{K}(\\boldsymbol{\\theta}) \\cdot f(\\mathbf{t})\n     + \\mathbf{E}_{\\mathrm{meas}},\\end{align}\n"
      ]
    },
    {
      "cell_type": "code",
      "execution_count": null,
      "metadata": {
        "collapsed": false
      },
      "outputs": [],
      "source": [
        "import numpy as np\nimport torch\nfrom matplotlib import pyplot as plt\nfrom model.model_twin_girder_betti import IJssel_bridge_model  # noqa: I201\nfrom sklearn.metrics import mean_squared_error\n\nfrom harlow.helper_functions import latin_hypercube_sampling\nfrom harlow.surrogate_model import ModelListGaussianProcess\n\n# ====================================================================\n# HELPER FUNCTIONS\n# ====================================================================\n\n\ndef create_test_set(min_domain, max_domain, n):\n\n    test_X = latin_hypercube_sampling(min_domain, max_domain, n)\n    test_y = response(test_X, sensor_positions)\n\n    return torch.tensor(test_X).float(), torch.tensor(test_y).float()\n\n\ndef rmse(x, y):\n    return mean_squared_error(x, y, squared=False)\n\n\ndef get_param_idx(params_dict):\n    return {key: idx_key for idx_key, key in enumerate(params_dict)}\n\n\n# ====================================================================\n# SURROGATING PARAMETERS\n# ====================================================================\nN_train = 10\nN_test = 200\nN_pred = 100\nN_iter = 200\nN_update = 100\nrmse_criterium = 0.1\n\n# ====================================================================\n# INITIALIZE MODEL\n# ====================================================================\n# Set model parameters\nmeas_type = \"fugro\"\nE = 210e6\nmax_elem_length = 2.0 * 1e3\n\n# Sensor names and positions\nsensor_names = [\"H1_S\", \"H2_S\", \"H3_S\", \"H4_S\", \"H5_S\", \"H7_S\", \"H8_S\", \"H9_S\", \"H10_S\"]\nsensor_positions = [\n    20.42,\n    34.82,\n    47.700,\n    61.970,\n    68.600,\n    96.800,\n    113.9,\n    123.900,\n    147.500,\n]\nN_tasks = len(sensor_positions)\n\n# All parameters. This is the order that parameters will be expcted in\n# within the various functions in this scr\u00edpt (e.g. model response function)\nparams_all = [\"Kr1\", \"Kr2\", \"Kr3\", \"Kr4\", \"Kv\"]\n\n# Parameters that are shared between models\nparams_common = [\n    \"Kv\",\n]\n\n# Parameters that are not shared by all models\nparams_model = {\n    \"H1_S\": [\"Kr1\", \"Kr2\"],\n    \"H2_S\": [\"Kr1\", \"Kr2\"],\n    \"H3_S\": [\"Kr1\", \"Kr2\"],\n    \"H4_S\": [\"Kr2\", \"Kr3\"],\n    \"H5_S\": [\"Kr2\", \"Kr3\"],\n    \"H7_S\": [\"Kr2\", \"Kr3\"],\n    \"H8_S\": [\"Kr3\", \"Kr4\"],\n    \"H9_S\": [\"Kr3\", \"Kr4\"],\n    \"H10_S\": [\"Kr3\", \"Kr4\"],\n}\n\n# Define FE models and append to list\nmodels_dict = {\n    idx_model: IJssel_bridge_model(\n        sname, E, max_elem_length=max_elem_length, truck_load=meas_type\n    )\n    for idx_model, sname in enumerate(sensor_names)\n}\nnode_xs = models_dict[0].node_xs\n\n# # ====================================================================\n# # DOMAIN BOUNDS\n# # ====================================================================\n\n# Prior for first support rotational stiffness Kr1\nKr_low = 4.0\nKr_high = 10.0\n\n# Ground truth and prior for K-brace spring vertical stiffness\nKv_low = 0.0\nKv_high = 8.0\n\nc = -0.1754\n\n# Bounds of the time domain\nt_low = np.min(node_xs)\nt_high = np.max(node_xs)\n\nparams_priors = {\n    \"Kv\": {\"dist\": \"uniform\", \"low\": Kv_low, \"high\": Kv_high},\n    \"Kr1\": {\"dist\": \"uniform\", \"low\": Kr_low, \"high\": Kr_high},\n    \"Kr2\": {\"dist\": \"uniform\", \"low\": Kr_low, \"high\": Kr_high},\n    \"Kr3\": {\"dist\": \"uniform\", \"low\": Kr_low, \"high\": Kr_high},\n    \"Kr4\": {\"dist\": \"uniform\", \"low\": Kr_low, \"high\": Kr_high},\n}\n\n# Create domain bounds\ndomain_lower_bound = np.array([params_priors[param][\"low\"] for param in params_all])\ndomain_upper_bound = np.array([params_priors[param][\"high\"] for param in params_all])\n\n# Indices of all params\nparam_idx = get_param_idx(params_all)\n\n# Build list of parameter indices per model\nlist_params = [\n    [param_idx[param] for param in params_model[key] + params_common]\n    for key in params_model.keys()\n]\n\n\n# # ====================================================================\n# # MODEL FUNCTION\n# # ====================================================================\ndef response(X, pts):\n\n    # Initialize\n    X = np.atleast_2d(X)\n    N_x = X.shape[0]\n    N_y = len(pts)\n    res = np.zeros((N_x, N_y))\n\n    print(f\"Evaluating response function at {N_x} points for {N_y} outputs\")\n\n    # Iterate over parameter array\n    for idx_x, x in enumerate(X):\n        Kr1 = x[param_idx[\"Kr1\"]]\n        Kr2 = x[param_idx[\"Kr2\"]]\n        Kr3 = x[param_idx[\"Kr3\"]]\n        Kr4 = x[param_idx[\"Kr4\"]]\n        Kv = x[param_idx[\"Kv\"]]\n\n        # Rotational stiffness input array\n        arr_Kr = np.repeat(np.array([Kr1, Kr2, Kr3, Kr4]), 2)\n        arr_Kr = np.append(arr_Kr, np.zeros(4))\n\n        # Iterate over models and evaluate\n        for idx_t, model_key in enumerate(models_dict.keys()):\n\n            # Get model and prediction t\n            t = pts[idx_t]\n            model = models_dict[model_key]\n\n            # Evaluate each model in list\n            res[idx_x, idx_t] = np.interp(\n                t,\n                model.node_xs,\n                model.il_stress_truckload(c, lane=\"left\", Kr=10 ** arr_Kr, Kv=10 ** Kv),\n            )\n\n    return res\n\n\n# Model function taking only X as input, to be passed to the sampler.\ndef func_model(X):\n    return response(X, sensor_positions)\n\n\n# ====================================================================\n# GENERATE TEST AND TRAIN DATA\n# ====================================================================\n# Each column of train_Y corresponds to one GP\ntrain_X, train_y = create_test_set(domain_lower_bound, domain_upper_bound, N_train)\ntest_X, test_y = create_test_set(domain_lower_bound, domain_upper_bound, N_test)\n\n# To check surrogate updating\nupdate_X, update_y = create_test_set(domain_lower_bound, domain_upper_bound, N_update)\n\n# ====================================================================\n# DEFINE SURROGATE\n# ====================================================================\n\nsurrogate = ModelListGaussianProcess(\n    # torch.cat([train_X, update_X], dim=0),\n    # torch.cat([train_y, update_y], dim=0),\n    train_X,\n    train_y,\n    model_names=sensor_names,\n    list_params=list_params,\n    training_iter=N_iter,\n)\n\n\n# ====================================================================\n# FIT\n# ====================================================================\nsurrogate.fit(train_X, train_y)\n\n# ====================================================================\n# UPDATE\n# ====================================================================\nsurrogate.update(update_X, update_y)\n\n# ====================================================================\n# SURROGATE PREDICT\n# ====================================================================\n\n# Tensor of prediction points\nvec_Kv = np.linspace(Kv_low, Kv_high, N_pred)\npred_X = np.tile(np.array([7.0, 7.0, 7.0, 7.0]), (N_pred, 1))\npred_X = np.hstack((pred_X, vec_Kv.reshape(-1, 1)))\npred_X = torch.tensor(pred_X).float()\n\n# Physical model prediction\ntrue_y = response(pred_X, sensor_positions)\n\n# Surrogate model prediction\npred_y = surrogate.predict(pred_X, return_std=False)\n\n# Initialize plots\nnrows = 3\nncols = int(np.ceil(N_tasks / 3))\nf, axes = plt.subplots(nrows, ncols, figsize=(3 * ncols, 3 * nrows))\n\nfor idx, ax_i in enumerate(axes.ravel()):\n\n    mean_i = surrogate.mean[idx]\n    upper_i = surrogate.upper[idx]\n    lower_i = surrogate.lower[idx]\n\n    grid_idx = np.unravel_index(idx, (nrows, ncols))\n\n    train_X_i = surrogate.model.train_inputs[idx][0].detach().numpy()\n    train_y_i = surrogate.model.train_targets[idx].detach().numpy()\n\n    # Plot training data as black stars\n    ax_i.plot(train_X[:, -1], train_y[:, idx], \"k*\", label=\"Observations\")\n\n    # Predictive mean as blue line\n    ax_i.plot(pred_X[:, -1].numpy(), mean_i.numpy(), \"b\", label=\"Mean\")\n\n    # Shade in confidence\n    ax_i.fill_between(\n        pred_X[:, -1].numpy(),\n        lower_i.detach().numpy(),\n        upper_i.detach().numpy(),\n        alpha=0.5,\n        label=\"Confidence\",\n    )\n    ax_i.plot(\n        pred_X[:, -1].numpy(),\n        true_y[:, idx],\n        color=\"red\",\n        linestyle=\"dashed\",\n        label=\"Model\",\n    )\n    ax_i.set_title(f\"Sensor: {sensor_names[idx]}\")\n\naxes[0, 0].legend()"
      ]
    }
  ],
  "metadata": {
    "kernelspec": {
      "display_name": "Python 3",
      "language": "python",
      "name": "python3"
    },
    "language_info": {
      "codemirror_mode": {
        "name": "ipython",
        "version": 3
      },
      "file_extension": ".py",
      "mimetype": "text/x-python",
      "name": "python",
      "nbconvert_exporter": "python",
      "pygments_lexer": "ipython3",
      "version": "3.10.5"
    }
  },
  "nbformat": 4,
  "nbformat_minor": 0
}
